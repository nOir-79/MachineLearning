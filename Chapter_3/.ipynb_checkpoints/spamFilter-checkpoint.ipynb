{
 "cells": [
  {
   "cell_type": "code",
   "execution_count": 10,
   "id": "25265cce-f5a5-41d9-af91-7d16c4bf6e4e",
   "metadata": {},
   "outputs": [],
   "source": [
    "import numpy as np\n",
    "import pandas as pd\n",
    "import nltk\n",
    "import os"
   ]
  },
  {
   "cell_type": "code",
   "execution_count": 71,
   "id": "2362f0a1-aa40-4a8c-a283-7196fbb3f22c",
   "metadata": {},
   "outputs": [],
   "source": [
    "SPAM_URL = 'https://spamassassin.apache.org/old/publiccorpus/20050311_spam_2.tar.bz2'\n",
    "EASY_HAM_URL = 'https://spamassassin.apache.org/old/publiccorpus/20030228_easy_ham_2.tar.bz2'\n",
    "HARD_HAM_URL = 'https://spamassassin.apache.org/old/publiccorpus/20030228_hard_ham.tar.bz2'"
   ]
  },
  {
   "cell_type": "code",
   "execution_count": 41,
   "id": "4f099711-eef6-40fe-8dc5-fb3583b5ea3f",
   "metadata": {},
   "outputs": [
    {
     "data": {
      "text/plain": [
       "'20050311_spam_2.tar.bz2'"
      ]
     },
     "execution_count": 41,
     "metadata": {},
     "output_type": "execute_result"
    }
   ],
   "source": []
  },
  {
   "cell_type": "code",
   "execution_count": 72,
   "id": "7d669041-32f5-4ffa-80fc-e3b866b52505",
   "metadata": {},
   "outputs": [],
   "source": [
    "DATASETS_DIR = 'datasets'\n",
    "MODELS_DIR = 'models'\n",
    "TAR_DIR = os.path.join(DATASETS_DIR, 'tar')"
   ]
  },
  {
   "cell_type": "code",
   "execution_count": 42,
   "id": "10bfa168-10c7-4835-a6df-045b60a42c78",
   "metadata": {},
   "outputs": [],
   "source": [
    "DATASETS_DIR = 'datasets'\n",
    "TARFILE_DIR = os.path.join(DATASETS_DIR,'tar')"
   ]
  },
  {
   "cell_type": "code",
   "execution_count": 30,
   "id": "46636af4-d81d-4faa-9fff-f2a311feca01",
   "metadata": {},
   "outputs": [
    {
     "data": {
      "text/plain": [
       "('C:\\\\Users\\\\USER\\\\AppData\\\\Local\\\\Temp\\\\tmp588s9y1n',\n",
       " <http.client.HTTPMessage at 0x25bb2e574d0>)"
      ]
     },
     "execution_count": 30,
     "metadata": {},
     "output_type": "execute_result"
    }
   ],
   "source": [
    "from urllib.request import urlretrieve\n",
    "retrived_url = urlretrieve(SPAM_URL)"
   ]
  },
  {
   "cell_type": "code",
   "execution_count": 49,
   "id": "193a05e9-3166-4488-abe6-cbaf395d35dc",
   "metadata": {},
   "outputs": [],
   "source": [
    "if not os.path.isdir(TARFILE_DIR):\n",
    "    os.makedirs(TARFILE_DIR)"
   ]
  },
  {
   "cell_type": "code",
   "execution_count": 50,
   "id": "e3d1368d-3647-453e-b98d-d5c6c3e3701d",
   "metadata": {},
   "outputs": [
    {
     "data": {
      "text/plain": [
       "('datasets\\\\tar\\\\path', <http.client.HTTPMessage at 0x25bb7e1ea10>)"
      ]
     },
     "execution_count": 50,
     "metadata": {},
     "output_type": "execute_result"
    }
   ],
   "source": [
    "urlretrieve(SPAM_URL,os.path.join(TARFILE_DIR,'path'))"
   ]
  },
  {
   "cell_type": "code",
   "execution_count": 67,
   "id": "43b7bb78-a3fb-4c77-b86d-2c61d37990b4",
   "metadata": {},
   "outputs": [],
   "source": [
    "with tarfile.open(os.path.join(TARFILE_DIR,'path')) as tar:\n",
    "    dirname = os.path.join(DATASETS_DIR, tar.getnames()[0])\n",
    "    if os.path.isdir(dirname):\n",
    "        shutil.rmtree(dirname)\n",
    "    tar.extractall(path=DATASETS_DIR)"
   ]
  },
  {
   "cell_type": "code",
   "execution_count": 69,
   "id": "6f40dac1-5ea6-47fe-9050-f7baeac3e61a",
   "metadata": {},
   "outputs": [],
   "source": [
    "with tarfile.open(os.path.join(TARFILE_DIR,'path')) as tar:\n",
    "    dirname = tar.getnames()"
   ]
  },
  {
   "cell_type": "code",
   "execution_count": 70,
   "id": "2df6762b-021d-4ed3-8b8e-4e6479622aa9",
   "metadata": {},
   "outputs": [
    {
     "data": {
      "text/plain": [
       "'spam_2/00002.9438920e9a55591b18e60d1ed37d992b'"
      ]
     },
     "execution_count": 70,
     "metadata": {},
     "output_type": "execute_result"
    }
   ],
   "source": [
    "dirname[2]"
   ]
  },
  {
   "cell_type": "code",
   "execution_count": 36,
   "id": "5a0bcdc1-df18-4119-a7bd-0f0c02408f33",
   "metadata": {},
   "outputs": [
    {
     "data": {
      "text/plain": [
       "'C:\\\\Users\\\\USER\\\\AppData\\\\Local\\\\Temp\\\\tmpqez7zpk0'"
      ]
     },
     "execution_count": 36,
     "metadata": {},
     "output_type": "execute_result"
    }
   ],
   "source": [
    "from urllib.request import urlretrieve\n",
    "retrived_url = urlretrieve(SPAM_URL)\n",
    "retrieved_url[0]"
   ]
  },
  {
   "cell_type": "code",
   "execution_count": 37,
   "id": "b7cab4c4-5d4c-4c8d-b6fb-ee1b8b84b61b",
   "metadata": {},
   "outputs": [
    {
     "ename": "UnicodeDecodeError",
     "evalue": "'charmap' codec can't decode byte 0x9d in position 63: character maps to <undefined>",
     "output_type": "error",
     "traceback": [
      "\u001b[1;31m---------------------------------------------------------------------------\u001b[0m",
      "\u001b[1;31mUnicodeDecodeError\u001b[0m                        Traceback (most recent call last)",
      "Cell \u001b[1;32mIn[37], line 2\u001b[0m\n\u001b[0;32m      1\u001b[0m \u001b[38;5;28;01mwith\u001b[39;00m \u001b[38;5;28mopen\u001b[39m(retrieved_url[\u001b[38;5;241m0\u001b[39m],\u001b[38;5;124m'\u001b[39m\u001b[38;5;124mr\u001b[39m\u001b[38;5;124m'\u001b[39m) \u001b[38;5;28;01mas\u001b[39;00m file:\n\u001b[1;32m----> 2\u001b[0m     content \u001b[38;5;241m=\u001b[39m file\u001b[38;5;241m.\u001b[39mread()\n",
      "File \u001b[1;32mE:\\conda\\envs\\Shakshor\\Lib\\encodings\\cp1252.py:23\u001b[0m, in \u001b[0;36mIncrementalDecoder.decode\u001b[1;34m(self, input, final)\u001b[0m\n\u001b[0;32m     22\u001b[0m \u001b[38;5;28;01mdef\u001b[39;00m \u001b[38;5;21mdecode\u001b[39m(\u001b[38;5;28mself\u001b[39m, \u001b[38;5;28minput\u001b[39m, final\u001b[38;5;241m=\u001b[39m\u001b[38;5;28;01mFalse\u001b[39;00m):\n\u001b[1;32m---> 23\u001b[0m     \u001b[38;5;28;01mreturn\u001b[39;00m codecs\u001b[38;5;241m.\u001b[39mcharmap_decode(\u001b[38;5;28minput\u001b[39m,\u001b[38;5;28mself\u001b[39m\u001b[38;5;241m.\u001b[39merrors,decoding_table)[\u001b[38;5;241m0\u001b[39m]\n",
      "\u001b[1;31mUnicodeDecodeError\u001b[0m: 'charmap' codec can't decode byte 0x9d in position 63: character maps to <undefined>"
     ]
    }
   ],
   "source": [
    "with open(retrieved_url[0],'r') as file:\n",
    "    content = file.read()"
   ]
  },
  {
   "cell_type": "code",
   "execution_count": 39,
   "id": "615edb88-c3d2-4477-8586-111c04fcc252",
   "metadata": {},
   "outputs": [],
   "source": [
    "if not os.path.isdir('./Shakshor'):\n",
    "    os.makedirs('./Shakshor')\n",
    "else:\n",
    "    shutil.rmtree('./Shakshor')"
   ]
  },
  {
   "cell_type": "code",
   "execution_count": 73,
   "id": "1645c980-4f56-4cbb-8490-b77a63a69091",
   "metadata": {},
   "outputs": [],
   "source": [
    "from urllib.request import urlretrieve\n",
    "import tarfile\n",
    "import shutil\n",
    "\n",
    "def download_dataset(url):\n",
    "    \"\"\"download and unzip data from a url into the specified path\"\"\"\n",
    "    \n",
    "    # create directory if it doesn't exist\n",
    "    if not os.path.isdir(TAR_DIR):\n",
    "        os.makedirs(TAR_DIR)\n",
    "    \n",
    "    filename = url.rsplit('/', 1)[-1]\n",
    "    tarpath = os.path.join(TAR_DIR, filename)\n",
    "    \n",
    "    # download the tar file if it doesn't exist\n",
    "    try:\n",
    "        tarfile.open(tarpath)\n",
    "    except:\n",
    "        urlretrieve(url, tarpath)\n",
    "    \n",
    "    with tarfile.open(tarpath) as tar:\n",
    "        dirname = os.path.join(DATASETS_DIR, tar.getnames()[0])\n",
    "        if os.path.isdir(dirname):\n",
    "            shutil.rmtree(dirname)\n",
    "        tar.extractall(path=DATASETS_DIR)\n",
    "        \n",
    "        #cmds_path = os.path.join(dirname, 'cmds')\n",
    "        #if os.path.isfile(cmds_path):\n",
    "           #os.remove(cmds_path)\n",
    "    \n",
    "    return dirname"
   ]
  },
  {
   "cell_type": "code",
   "execution_count": 74,
   "id": "c213dd47-061f-47d9-a3e6-24f21c8e246c",
   "metadata": {},
   "outputs": [],
   "source": [
    "spam_dir = download_dataset(SPAM_URL)\n",
    "easy_ham_dir = download_dataset(EASY_HAM_URL)\n",
    "hard_ham_dir = download_dataset(HARD_HAM_URL)"
   ]
  },
  {
   "cell_type": "code",
   "execution_count": 26,
   "id": "5ad1397a-b8bc-4161-8421-dd9bfc063098",
   "metadata": {},
   "outputs": [],
   "source": [
    "import numpy as np\n",
    "import glob\n",
    "\n",
    "def load_dataset(dirpath):\n",
    "    \"\"\"load emails from the specified directory\"\"\"\n",
    "    \n",
    "    files = []\n",
    "    filepaths = glob.glob(dirpath + '/*')\n",
    "    for path in filepaths:\n",
    "        with open(path, 'rb') as f:\n",
    "            byte_content = f.read()\n",
    "            str_content = byte_content.decode('utf-8', errors='ignore')\n",
    "            files.append(str_content)\n",
    "    return files"
   ]
  },
  {
   "cell_type": "code",
   "execution_count": 27,
   "id": "ca14de60-8560-4259-a095-e15f1d0057c0",
   "metadata": {},
   "outputs": [],
   "source": [
    "spam = load_dataset(spam_dir)\n",
    "easy_ham = load_dataset(easy_ham_dir)\n",
    "hard_ham = load_dataset(hard_ham_dir)"
   ]
  },
  {
   "cell_type": "code",
   "execution_count": null,
   "id": "0ed9f4f0-f0c9-4033-8645-544974c5e4fe",
   "metadata": {},
   "outputs": [],
   "source": []
  },
  {
   "cell_type": "code",
   "execution_count": null,
   "id": "9dae5ccc-966c-4864-a06b-ce34d8e51b68",
   "metadata": {},
   "outputs": [],
   "source": []
  }
 ],
 "metadata": {
  "kernelspec": {
   "display_name": "Python 3 (ipykernel)",
   "language": "python",
   "name": "python3"
  },
  "language_info": {
   "codemirror_mode": {
    "name": "ipython",
    "version": 3
   },
   "file_extension": ".py",
   "mimetype": "text/x-python",
   "name": "python",
   "nbconvert_exporter": "python",
   "pygments_lexer": "ipython3",
   "version": "3.11.9"
  }
 },
 "nbformat": 4,
 "nbformat_minor": 5
}
